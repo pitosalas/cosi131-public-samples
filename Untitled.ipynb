{
 "cells": [
  {
   "cell_type": "code",
   "execution_count": 1,
   "id": "142d4a81-2651-4a23-8343-90a750745952",
   "metadata": {},
   "outputs": [],
   "source": [
    "def f(num):\n",
    "    print(format(num, '08b'))\n"
   ]
  },
  {
   "cell_type": "code",
   "execution_count": 2,
   "id": "98acec1c-7e98-4872-86d2-02401e61e1f3",
   "metadata": {},
   "outputs": [
    {
     "ename": "NameError",
     "evalue": "name 'num' is not defined",
     "output_type": "error",
     "traceback": [
      "\u001b[0;31m---------------------------------------------------------------------------\u001b[0m",
      "\u001b[0;31mNameError\u001b[0m                                 Traceback (most recent call last)",
      "Cell \u001b[0;32mIn[2], line 1\u001b[0m\n\u001b[0;32m----> 1\u001b[0m \u001b[43mnum\u001b[49m(\u001b[38;5;241m100\u001b[39m)\n",
      "\u001b[0;31mNameError\u001b[0m: name 'num' is not defined"
     ]
    }
   ],
   "source": [
    "num(100)"
   ]
  },
  {
   "cell_type": "code",
   "execution_count": 3,
   "id": "295d386b-8b93-4eec-bb2e-0779c459b5ab",
   "metadata": {},
   "outputs": [
    {
     "name": "stdout",
     "output_type": "stream",
     "text": [
      "01100100\n"
     ]
    }
   ],
   "source": [
    "f(100)"
   ]
  },
  {
   "cell_type": "code",
   "execution_count": 6,
   "id": "9bfb7f5c-5b78-49f8-a50a-e47033a1a98e",
   "metadata": {},
   "outputs": [
    {
     "name": "stdout",
     "output_type": "stream",
     "text": [
      "10000000000000000000000\n"
     ]
    }
   ],
   "source": [
    "op = 1 << 22\n",
    "f(op)"
   ]
  },
  {
   "cell_type": "code",
   "execution_count": 7,
   "id": "71ec3967-d1b2-4c4b-99e2-3de7751fe630",
   "metadata": {},
   "outputs": [
    {
     "name": "stdout",
     "output_type": "stream",
     "text": [
      "100000000000\n"
     ]
    }
   ],
   "source": [
    "ip = 2 << 10\n",
    "f(ip)"
   ]
  },
  {
   "cell_type": "code",
   "execution_count": 8,
   "id": "870015b4-89e9-4736-b5ee-afcbf0edfb6d",
   "metadata": {},
   "outputs": [
    {
     "name": "stdout",
     "output_type": "stream",
     "text": [
      "00000011\n"
     ]
    }
   ],
   "source": [
    "offset = 3\n",
    "f(offset)"
   ]
  },
  {
   "cell_type": "code",
   "execution_count": 9,
   "id": "87b3635f-8cd5-4065-a592-8b58c8c67d91",
   "metadata": {},
   "outputs": [
    {
     "name": "stdout",
     "output_type": "stream",
     "text": [
      "100000000011\n"
     ]
    }
   ],
   "source": [
    "f(offset + ip)"
   ]
  },
  {
   "cell_type": "code",
   "execution_count": 10,
   "id": "c1fc2503-16ed-4957-904a-9ce792f3428e",
   "metadata": {},
   "outputs": [
    {
     "name": "stdout",
     "output_type": "stream",
     "text": [
      "10000000000100000000011\n"
     ]
    }
   ],
   "source": [
    "f(op + ip + offset)"
   ]
  },
  {
   "cell_type": "code",
   "execution_count": 13,
   "id": "45decae0-4615-4482-926f-6b88b6e23ab2",
   "metadata": {},
   "outputs": [],
   "source": [
    "address = (1 << 22) + (2 << 12) + 3\n"
   ]
  },
  {
   "cell_type": "code",
   "execution_count": 14,
   "id": "a78fb72f-a882-41a0-b7a8-3695b9b2a977",
   "metadata": {},
   "outputs": [
    {
     "name": "stdout",
     "output_type": "stream",
     "text": [
      "10000000010000000000011\n"
     ]
    }
   ],
   "source": [
    "f(address)"
   ]
  },
  {
   "cell_type": "code",
   "execution_count": null,
   "id": "2d105bea-dbdc-4a8e-a546-535d12bfc661",
   "metadata": {},
   "outputs": [],
   "source": []
  }
 ],
 "metadata": {
  "kernelspec": {
   "display_name": "Python 3 (ipykernel)",
   "language": "python",
   "name": "python3"
  },
  "language_info": {
   "codemirror_mode": {
    "name": "ipython",
    "version": 3
   },
   "file_extension": ".py",
   "mimetype": "text/x-python",
   "name": "python",
   "nbconvert_exporter": "python",
   "pygments_lexer": "ipython3",
   "version": "3.12.0"
  }
 },
 "nbformat": 4,
 "nbformat_minor": 5
}
