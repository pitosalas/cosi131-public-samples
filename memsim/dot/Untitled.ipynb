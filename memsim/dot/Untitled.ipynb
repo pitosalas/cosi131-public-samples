{
 "cells": [
  {
   "cell_type": "code",
   "execution_count": 1,
   "id": "f079df5b",
   "metadata": {},
   "outputs": [],
   "source": [
    "import graphviz"
   ]
  },
  {
   "cell_type": "code",
   "execution_count": 20,
   "id": "7a969cde",
   "metadata": {},
   "outputs": [],
   "source": [
    "dot = graphviz.Digraph(comment='Memsim')"
   ]
  },
  {
   "cell_type": "code",
   "execution_count": 21,
   "id": "c6cb6fa7",
   "metadata": {},
   "outputs": [],
   "source": [
    "dot.attr('graph', rankdir=\"RL\")"
   ]
  },
  {
   "cell_type": "code",
   "execution_count": 22,
   "id": "f41d6f89",
   "metadata": {},
   "outputs": [],
   "source": [
    "dot.attr('node', shape=\"record\")"
   ]
  },
  {
   "cell_type": "code",
   "execution_count": 23,
   "id": "921e0e3b",
   "metadata": {},
   "outputs": [],
   "source": [
    "dot.node(\"mm\", label=\"x|<m12>|x|<m10>1|x|<m11>1|x|<m20>2|x|x|x|<m21>11|x|<m22>13\")"
   ]
  },
  {
   "cell_type": "code",
   "execution_count": 24,
   "id": "284ca334",
   "metadata": {},
   "outputs": [],
   "source": [
    "dot.node(\"p1\", label=\"<p10>3|<p11>1|<p12>5\")"
   ]
  },
  {
   "cell_type": "code",
   "execution_count": 25,
   "id": "ad232c6d",
   "metadata": {},
   "outputs": [],
   "source": [
    "dot.node(\"p2\", label=\"<p20>7|<p21>11|<p22>13\")"
   ]
  },
  {
   "cell_type": "code",
   "execution_count": 26,
   "id": "92c8af63",
   "metadata": {},
   "outputs": [],
   "source": [
    "dot.edge(\"p1:p10\",\"mm:m10\")\n",
    "dot.edge(\"p1:p11\",\"mm:m11\")\n",
    "dot.edge(\"p1:p12\",\"mm:m12\")\n",
    "dot.edge(\"p2:p20\",\"mm:m20\")\n",
    "dot.edge(\"p2:p21\",\"mm:m21\")\n",
    "dot.edge(\"p2:p22\",\"mm:m22\")\n"
   ]
  },
  {
   "cell_type": "code",
   "execution_count": 28,
   "id": "98359f94",
   "metadata": {},
   "outputs": [
    {
     "data": {
      "text/plain": [
       "'Digraph.gv.pdf'"
      ]
     },
     "execution_count": 28,
     "metadata": {},
     "output_type": "execute_result"
    }
   ],
   "source": [
    "dot.view()"
   ]
  },
  {
   "cell_type": "code",
   "execution_count": null,
   "id": "a45588c9",
   "metadata": {},
   "outputs": [],
   "source": []
  }
 ],
 "metadata": {
  "kernelspec": {
   "display_name": "Python 3 (ipykernel)",
   "language": "python",
   "name": "python3"
  },
  "language_info": {
   "codemirror_mode": {
    "name": "ipython",
    "version": 3
   },
   "file_extension": ".py",
   "mimetype": "text/x-python",
   "name": "python",
   "nbconvert_exporter": "python",
   "pygments_lexer": "ipython3",
   "version": "3.10.5"
  }
 },
 "nbformat": 4,
 "nbformat_minor": 5
}
