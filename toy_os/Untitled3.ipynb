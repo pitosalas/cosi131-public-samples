{
 "cells": [
  {
   "cell_type": "code",
   "execution_count": 24,
   "id": "addd63c5-b95c-4d59-b6cf-75d8b8170efa",
   "metadata": {},
   "outputs": [
    {
     "data": {
      "text/html": [
       "<pre style=\"white-space:pre;overflow-x:auto;line-height:normal;font-family:Menlo,'DejaVu Sans Mono',consolas,'Courier New',monospace\">╭─────────────────────────────────────────────────────────────────────────────────────────────────────────────────╮\n",
       "│ <span style=\"background-color: #000080\">╭─────────────────────────────────────────────────────────────────────────────────────────────────────────────╮</span> │\n",
       "│ <span style=\"background-color: #000080\">│ Hello                                                                                                       │</span> │\n",
       "│ <span style=\"background-color: #000080\">╰─────────────────────────────────────────────────────────────────────────────────────────────────────────────╯</span> │\n",
       "│ <span style=\"background-color: #800000\">╭─────────────────────────────────────────────────────────────────────────────────────────────────────────────╮</span> │\n",
       "│ <span style=\"background-color: #800000\">│ World                                                                                                       │</span> │\n",
       "│ <span style=\"background-color: #800000\">╰─────────────────────────────────────────────────────────────────────────────────────────────────────────────╯</span> │\n",
       "╰─────────────────────────────────────────────────────────────────────────────────────────────────────────────────╯\n",
       "</pre>\n"
      ],
      "text/plain": [
       "╭─────────────────────────────────────────────────────────────────────────────────────────────────────────────────╮\n",
       "│ \u001b[44m╭─────────────────────────────────────────────────────────────────────────────────────────────────────────────╮\u001b[0m │\n",
       "│ \u001b[44m│\u001b[0m\u001b[44m \u001b[0m\u001b[44mHello\u001b[0m\u001b[44m                                                                                                      \u001b[0m\u001b[44m \u001b[0m\u001b[44m│\u001b[0m │\n",
       "│ \u001b[44m╰─────────────────────────────────────────────────────────────────────────────────────────────────────────────╯\u001b[0m │\n",
       "│ \u001b[41m╭─────────────────────────────────────────────────────────────────────────────────────────────────────────────╮\u001b[0m │\n",
       "│ \u001b[41m│\u001b[0m\u001b[41m \u001b[0m\u001b[41mWorld\u001b[0m\u001b[41m                                                                                                      \u001b[0m\u001b[41m \u001b[0m\u001b[41m│\u001b[0m │\n",
       "│ \u001b[41m╰─────────────────────────────────────────────────────────────────────────────────────────────────────────────╯\u001b[0m │\n",
       "╰─────────────────────────────────────────────────────────────────────────────────────────────────────────────────╯\n"
      ]
     },
     "metadata": {},
     "output_type": "display_data"
    },
    {
     "data": {
      "text/html": [
       "<pre style=\"white-space:pre;overflow-x:auto;line-height:normal;font-family:Menlo,'DejaVu Sans Mono',consolas,'Courier New',monospace\"><span style=\"color: #008080; text-decoration-color: #008080; font-weight: bold\">11</span>\n",
       "</pre>\n"
      ],
      "text/plain": [
       "\u001b[1;36m11\u001b[0m\n"
      ]
     },
     "metadata": {},
     "output_type": "display_data"
    },
    {
     "data": {
      "text/html": [
       "<pre style=\"white-space:pre;overflow-x:auto;line-height:normal;font-family:Menlo,'DejaVu Sans Mono',consolas,'Courier New',monospace\"></pre>\n"
      ],
      "text/plain": []
     },
     "metadata": {},
     "output_type": "display_data"
    }
   ],
   "source": [
    "import time\n",
    "from rich.live import Live\n",
    "from rich.table import Table\n",
    "from rich.console import Console\n",
    "from rich.text import Text\n",
    "\n",
    "from rich import print\n",
    "from rich.console import Group\n",
    "from rich.panel import Panel\n",
    "\n",
    "panel_group = Group(\n",
    "    Panel(\"Hello\", style=\"on blue\"),\n",
    "    Panel(\"World\", style=\"on red\"),\n",
    ")\n",
    "print(Panel(panel_group))\n",
    "\n",
    "\n",
    "# console = Console()\n",
    "# text = Text(\"Hello, World!\")\n",
    "# text.stylize(\"bold magenta\", 0, 6)\n",
    "# console.print(text)\n",
    "\n",
    "# table = Table()\n",
    "# table.add_column(\"Row ID\")\n",
    "# table.add_column(\"Description\")\n",
    "# table.add_column(\"Level\")\n",
    "\n",
    "with Live(Panel(panel_group), refresh_per_second=4):  # update 4 times a second to feel fluid\n",
    "    for row in range(12):\n",
    "        panel_group.\n",
    "        time.sleep(0.4)  # arbitrary delay\n",
    "        # update the renderable internally\n",
    "        console.print(row)"
   ]
  },
  {
   "cell_type": "code",
   "execution_count": null,
   "id": "6b710155-aaf4-4939-a3b9-09cb33e6206b",
   "metadata": {},
   "outputs": [],
   "source": []
  }
 ],
 "metadata": {
  "kernelspec": {
   "display_name": "Python 3 (ipykernel)",
   "language": "python",
   "name": "python3"
  },
  "language_info": {
   "codemirror_mode": {
    "name": "ipython",
    "version": 3
   },
   "file_extension": ".py",
   "mimetype": "text/x-python",
   "name": "python",
   "nbconvert_exporter": "python",
   "pygments_lexer": "ipython3",
   "version": "3.11.5"
  }
 },
 "nbformat": 4,
 "nbformat_minor": 5
}
